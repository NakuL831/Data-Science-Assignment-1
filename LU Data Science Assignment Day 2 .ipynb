{
 "cells": [
  {
   "cell_type": "markdown",
   "metadata": {},
   "source": [
    "# Answer of Question no.1"
   ]
  },
  {
   "cell_type": "code",
   "execution_count": 3,
   "metadata": {},
   "outputs": [
    {
     "name": "stdout",
     "output_type": "stream",
     "text": [
      "\n",
      "Enter the value : 1\n",
      "\n",
      "Enter the value : 2\n",
      "\n",
      "Enter the value : 3\n",
      "\n",
      "Enter the value : 4\n",
      "\n",
      "Enter the value : 5\n",
      "\n",
      "Enter the value : 6\n",
      "\n",
      "Enter the value : 7\n",
      "\n",
      "Enter the value : 8\n",
      "\n",
      "Enter the value : 9\n",
      "\n",
      "Enter the value : 10\n",
      "\n",
      "The Even No. List [2, 4, 6, 8, 10]\n"
     ]
    }
   ],
   "source": [
    "norm_lst = [] #Empty list norm_list is Normal List\n",
    "\n",
    "\n",
    "for i in range(0,10):  #Getting values form users\n",
    "    x = int(input(\"\\nEnter the value : \"))\n",
    "    norm_lst.append(x)\n",
    "    \n",
    "\n",
    "even_list = []   #Empty list for Appending Even Numbers \n",
    " \n",
    "# appending only even numbers\n",
    "for i in norm_lst:\n",
    "    if(i%2==0):\n",
    "        even_list.append(i)\n",
    "        \n",
    "print(\"\\nThe Even No. List\",even_list)"
   ]
  },
  {
   "cell_type": "markdown",
   "metadata": {},
   "source": [
    "# Answer of Question no.2 "
   ]
  },
  {
   "cell_type": "code",
   "execution_count": 4,
   "metadata": {},
   "outputs": [
    {
     "name": "stdout",
     "output_type": "stream",
     "text": [
      "[2, 4, 6, 8, 10, 12, 14, 16, 18, 20]\n"
     ]
    }
   ],
   "source": [
    "lst = [1, 2, 3, 4, 5, 6, 7, 8, 9, 10, 11, 12, 13, 14, 15, 16, 17, 18, 19, 20]\n",
    "\n",
    "# list comprehensions\n",
    "even_list = [i for i in lst if i%2==0 ]\n",
    "\n",
    "print(even_list)"
   ]
  },
  {
   "cell_type": "markdown",
   "metadata": {},
   "source": [
    "\n",
    "# Answer of Question no.3 "
   ]
  },
  {
   "cell_type": "code",
   "execution_count": 5,
   "metadata": {},
   "outputs": [
    {
     "name": "stdout",
     "output_type": "stream",
     "text": [
      "8\n",
      "{1: 1, 2: 4, 3: 9, 4: 16, 5: 25, 6: 36, 7: 49, 8: 64}\n"
     ]
    }
   ],
   "source": [
    "dict = {} #Empty Dictionary\n",
    "\n",
    "n = int(input()) #Getting \"n\" values from user \n",
    " \n",
    "for i in range(1,n+1):\n",
    "  dict[i] = i*i\n",
    "\n",
    "print(dict)"
   ]
  },
  {
   "cell_type": "markdown",
   "metadata": {},
   "source": [
    "# Answer of Question no.4 "
   ]
  },
  {
   "cell_type": "code",
   "execution_count": null,
   "metadata": {},
   "outputs": [],
   "source": [
    "pos = {\"x\":0,\"y\":0}\n",
    "\n",
    "n = int(input())  #Getting Movement input from users in \"INT\"\n",
    "\n",
    "for i in range (n):\n",
    "    move =  input().split(\" \")      # Accept Movemment cmd and store it as a list \n",
    "    \n",
    "    if move[0].lower() == \"up\":     # Direction and comapre \n",
    "        pos[\"y\"] += int(move[1])    # Icrement and Decrement of Appropriate Coordinates \n",
    "    \n",
    "    elif move[0].lower() == \"down\":\n",
    "        pos[\"y\"] -= int(move[1])\n",
    "    \n",
    "    elif move[0].lower() == \"left\":\n",
    "        pos[\"x\"] -= int(move[1])\n",
    "    \n",
    "    elif move[0].lower() == \"right\":\n",
    "        pos[\"x\"] += int(move[1])\n",
    "\n",
    "print(int(round((pos[\"x\"]**2 + pos[\"y\"]**2)**0.5)))   # DISTANCE FROM ORIGIN\n"
   ]
  },
  {
   "cell_type": "code",
   "execution_count": null,
   "metadata": {},
   "outputs": [],
   "source": []
  },
  {
   "cell_type": "code",
   "execution_count": null,
   "metadata": {},
   "outputs": [],
   "source": [
    "\n"
   ]
  }
 ],
 "metadata": {
  "kernelspec": {
   "display_name": "Python 3",
   "language": "python",
   "name": "python3"
  },
  "language_info": {
   "codemirror_mode": {
    "name": "ipython",
    "version": 3
   },
   "file_extension": ".py",
   "mimetype": "text/x-python",
   "name": "python",
   "nbconvert_exporter": "python",
   "pygments_lexer": "ipython3",
   "version": "3.8.3"
  }
 },
 "nbformat": 4,
 "nbformat_minor": 4
}
