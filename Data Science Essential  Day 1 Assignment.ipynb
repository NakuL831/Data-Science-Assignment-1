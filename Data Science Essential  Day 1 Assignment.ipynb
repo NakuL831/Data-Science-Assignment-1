{
 "cells": [
  {
   "cell_type": "code",
   "execution_count": 1,
   "metadata": {},
   "outputs": [
    {
     "name": "stdout",
     "output_type": "stream",
     "text": [
      "['RAINBOW', 'BOWRANI', 'RANIBOW', 'BORWANI']\n",
      "Guess : RAINBOW\n",
      "Yes its a right answer\n"
     ]
    }
   ],
   "source": [
    "#Answer OF Question no.1 \n",
    "\n",
    "refrence = \"OBANWRI\"\n",
    "\n",
    "Given_words = [\"RAINBOW\", \"BOWRANI\", \"RANIBOW\", \"BORWANI\"]\n",
    "\n",
    "correct_words = \"RAINBOW\"\n",
    "\n",
    "print(Given_words)\n",
    "\n",
    "guess = input('Guess : ').upper()\n",
    "\n",
    "if guess == correct_words :\n",
    "    \n",
    "    print(\"Yes its a right answer\")\n",
    "else :\n",
    "    print(\"Nope Run the code again\")\n",
    "\n"
   ]
  },
  {
   "cell_type": "code",
   "execution_count": 2,
   "metadata": {},
   "outputs": [
    {
     "name": "stdout",
     "output_type": "stream",
     "text": [
      "LETS UPGRADE\n"
     ]
    }
   ],
   "source": [
    "#Answer of Question no. 2\n",
    "\n",
    "def printfunc():\n",
    "    print(\"LETS UPGRADE\")\n",
    "\n",
    "printfunc()"
   ]
  },
  {
   "cell_type": "code",
   "execution_count": 3,
   "metadata": {},
   "outputs": [
    {
     "name": "stdout",
     "output_type": "stream",
     "text": [
      " Cost Price: 500\n",
      " Selling Price: 600\n",
      "Profit = 100.0\n"
     ]
    }
   ],
   "source": [
    "#Answer no. 3\n",
    "\n",
    "Cost_price = float(input(\" Cost Price: \"))\n",
    "\n",
    "Selling_price = float(input(\" Selling Price: \"))\n",
    "\n",
    "if(Cost_price > Selling_price):\n",
    "\n",
    "   amount = Cost_price - Selling_price\n",
    "\n",
    "   print(\"Loss = {0}\".format(amount))\n",
    "\n",
    "elif(Selling_price > Cost_price):\n",
    "\n",
    "   amount = Selling_price - Cost_price\n",
    "\n",
    "   print(\"Profit = {0}\".format(amount))\n",
    "\n",
    "else:\n",
    "\n",
    "   print(\"Neither....\")\n",
    "\n"
   ]
  },
  {
   "cell_type": "code",
   "execution_count": 5,
   "metadata": {},
   "outputs": [
    {
     "name": "stdout",
     "output_type": "stream",
     "text": [
      "Indian Rs  20\n",
      "Euros 1600\n"
     ]
    }
   ],
   "source": [
    "#Answer no. 4 \n",
    "\n",
    "Indian_Rs=int(input(\"Indian Rs  \"))\n",
    "OneEuro = 80\n",
    "\n",
    "Rs_To_Euro = Indian_Rs * OneEuro\n",
    "print((\"Euros\"), Rs_To_Euro)\n"
   ]
  },
  {
   "cell_type": "code",
   "execution_count": null,
   "metadata": {},
   "outputs": [],
   "source": []
  },
  {
   "cell_type": "code",
   "execution_count": null,
   "metadata": {},
   "outputs": [],
   "source": []
  }
 ],
 "metadata": {
  "kernelspec": {
   "display_name": "Python 3",
   "language": "python",
   "name": "python3"
  },
  "language_info": {
   "codemirror_mode": {
    "name": "ipython",
    "version": 3
   },
   "file_extension": ".py",
   "mimetype": "text/x-python",
   "name": "python",
   "nbconvert_exporter": "python",
   "pygments_lexer": "ipython3",
   "version": "3.8.3"
  }
 },
 "nbformat": 4,
 "nbformat_minor": 4
}
