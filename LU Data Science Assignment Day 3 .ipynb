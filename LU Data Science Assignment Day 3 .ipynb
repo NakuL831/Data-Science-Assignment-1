{
 "cells": [
  {
   "cell_type": "markdown",
   "metadata": {},
   "source": [
    "# Answer of Question no. 1 "
   ]
  },
  {
   "cell_type": "code",
   "execution_count": 2,
   "metadata": {},
   "outputs": [
    {
     "name": "stdout",
     "output_type": "stream",
     "text": [
      "[ 2  5  8 11 14 17 20 23 26 29 32 35 38 41 44 47 50]\n"
     ]
    }
   ],
   "source": [
    "import numpy as np\n",
    "arr=np.arange(51)[2:51:3]\n",
    "print(arr)"
   ]
  },
  {
   "cell_type": "markdown",
   "metadata": {},
   "source": [
    "# Answer of Question No. 2 "
   ]
  },
  {
   "cell_type": "code",
   "execution_count": 3,
   "metadata": {},
   "outputs": [
    {
     "name": "stdout",
     "output_type": "stream",
     "text": [
      "Enter the elements of list1: \n",
      "5\n",
      "69\n",
      "8\n",
      "2\n",
      "4\n",
      "Enter the elements of list2: \n",
      "1\n",
      "69\n",
      "25\n",
      "4\n",
      "6\n",
      "The entered list are: \n",
      "[5, 69, 8, 2, 4]\n",
      "[1, 69, 25, 4, 6]\n",
      "The Arrays are:  \n",
      "[ 5 69  8  2  4]\n",
      "[ 1 69 25  4  6]\n",
      "Concatenated Arrays: \n",
      "[ 5 69  8  2  4  1 69 25  4  6]\n",
      "After sorting :\n",
      "[ 1  2  4  4  5  6  8 25 69 69]\n"
     ]
    }
   ],
   "source": [
    "list1=[]\n",
    "list2=[]\n",
    "\n",
    "print(\"Enter the elements of list1: \")\n",
    "\n",
    "for i in range(0,5):                      #Getting elements of List2 from user \n",
    "    list1.append(int(input()))\n",
    "    \n",
    "print(\"Enter the elements of list2: \")    #Getting elements of List2 from user   \n",
    "for j in range(0,5):\n",
    "    list2.append(int(input()))\n",
    "\n",
    "print(\"The entered list are: \")\n",
    "print(list1)\n",
    "print(list2)                              \n",
    "\n",
    "arr1 = np.array(list1)                  \n",
    "arr2 = np.array(list2)                     #converting list1 and list2 into np arrays\n",
    "\n",
    "print(\"The Arrays are:  \")\n",
    "print(arr1)\n",
    "print(arr2)                 \n",
    "\n",
    "print(\"Concatenated Arrays: \")\n",
    "arr3 = np.append(arr1,arr2,axis=0)\n",
    "print(arr3)\n",
    "\n",
    "print(\"After sorting :\")\n",
    "print(np.sort(arr3))"
   ]
  },
  {
   "cell_type": "markdown",
   "metadata": {},
   "source": [
    "# Answer of Question no. 3 "
   ]
  },
  {
   "cell_type": "code",
   "execution_count": 4,
   "metadata": {},
   "outputs": [
    {
     "name": "stdout",
     "output_type": "stream",
     "text": [
      "1D Array\n",
      "[0 1 2 3 4 5 6 7 8 9]\n",
      "The dimension is: 1\n",
      "The size of the array is:  10\n",
      "\n",
      "2D Array\n",
      "[[ 0  1  2  3]\n",
      " [ 4  5  6  7]\n",
      " [ 8  9 10 11]]\n",
      "The dimension is 2\n",
      "The size of the array is:  12\n"
     ]
    }
   ],
   "source": [
    "import numpy as np #imported only for testing purpose  \n",
    "print(\"1D Array\")\n",
    "array_1d = np.arange(10)\n",
    "print(array_1d)\n",
    "print(\"The dimension is:\",array_1d.ndim)\n",
    "print(\"The size of the array is: \",array_1d.size)\n",
    "\n",
    "print()\n",
    "print(\"2D Array\")\n",
    "array_2d = np.arange(12).reshape((3,4))\n",
    "print(array_2d)\n",
    "print(\"The dimension is\",array_2d.ndim)\n",
    "print(\"The size of the array is: \",array_2d.size)"
   ]
  },
  {
   "cell_type": "markdown",
   "metadata": {},
   "source": [
    "# Answer of Question no. 4"
   ]
  },
  {
   "cell_type": "code",
   "execution_count": 5,
   "metadata": {
    "scrolled": false
   },
   "outputs": [
    {
     "name": "stdout",
     "output_type": "stream",
     "text": [
      "1D array\n",
      "[0 1 2 3 4 5 6 7 8]\n",
      "\n",
      " Convering into 2D array\n",
      "[[0 1 2]\n",
      " [3 4 5]\n",
      " [6 7 8]]\n"
     ]
    }
   ],
   "source": [
    "arry_1d = np.arange(9)\n",
    "print(\"1D array\")\n",
    "print(arry_1d)\n",
    "\n",
    "print(\"\\n Convering into 2D array\")\n",
    "print(arry_1d.reshape(3,3))"
   ]
  },
  {
   "cell_type": "markdown",
   "metadata": {},
   "source": [
    "# Answer of Question no. 5 "
   ]
  },
  {
   "cell_type": "code",
   "execution_count": 14,
   "metadata": {},
   "outputs": [
    {
     "name": "stdout",
     "output_type": "stream",
     "text": [
      "Square of Array 1: [ 1  4 25] \n",
      " The Vertical Stack of array is: [[1 2 5]\n",
      " [8 5 9]]\n",
      "Square of Array 2 : [64 25 81] \n",
      " The Horizontal Stack of array is: [1 2 5 8 5 9]\n"
     ]
    }
   ],
   "source": [
    "import numpy as np\n",
    "aray_1 = [1,2,5]\n",
    "aray_2 = [8,5,9]\n",
    "square_array1 = np.square(aray_1)\n",
    "square_array2 = np.square(aray_2)\n",
    "print(\"Square of Array 1:\", square_array1, \"\\n The Vertical Stack of array is:\", np.vstack((aray_1, aray_2)))\n",
    "\n",
    "print(\"Square of Array 2 :\", square_array2, \"\\n The Horizontal Stack of array is:\", np.hstack((aray_1, aray_2)))"
   ]
  },
  {
   "cell_type": "code",
   "execution_count": 16,
   "metadata": {},
   "outputs": [
    {
     "name": "stdout",
     "output_type": "stream",
     "text": [
      "Vertical stacking:\n",
      " [[1 2]\n",
      " [3 4]\n",
      " [5 6]\n",
      " [7 8]]\n",
      "\n",
      "Horizontal stacking:\n",
      " [[1 2 5 6]\n",
      " [3 4 7 8]]\n"
     ]
    }
   ],
   "source": [
    "\"\"\"\n",
    "I solved question number 5 in two different ways becuase i didn't understand question. \n",
    "\"\"\"\n",
    "a = np.array([[3, 4], \n",
    "              [8, 9]]) \n",
    "  \n",
    "b = np.array([[3, 5], \n",
    "              [9, 3]]) \n",
    "  \n",
    "print(\"Vertical stacking:\\n\", np.vstack((a, b))) # vertical stacking\n",
    "  \n",
    "print(\"\\nHorizontal stacking:\\n\", np.hstack((a, b))) # horizontal stacking \n",
    "  \n",
    "    \n",
    "    "
   ]
  },
  {
   "cell_type": "markdown",
   "metadata": {},
   "source": [
    "# Answer of Question no 6"
   ]
  },
  {
   "cell_type": "code",
   "execution_count": 23,
   "metadata": {},
   "outputs": [
    {
     "name": "stdout",
     "output_type": "stream",
     "text": [
      "Generated Uniques Items1: [ 3 15 30 21 14 23  9  3 31 24]\n",
      "\n",
      "The unique values from 1st Unique item is\n",
      "[ 3  9 14 15 21 23 24 30 31]\n"
     ]
    }
   ],
   "source": [
    "#Generating unique items \n",
    "import numpy as np \n",
    "def unique(uniq_1): \n",
    "    x = np.array(uniq_1) \n",
    "    print(np.unique(x)) \n",
    "      \n",
    "  \n",
    "unique_item1 = np.random.randint(1, 40, 10)\n",
    "print(\"Generated Uniques Items1:\", unique_item1)\n",
    "print(\"\\nThe unique values from 1st Unique item is\") \n",
    "unique(unique_item1) \n",
    "  "
   ]
  },
  {
   "cell_type": "code",
   "execution_count": null,
   "metadata": {},
   "outputs": [],
   "source": []
  }
 ],
 "metadata": {
  "kernelspec": {
   "display_name": "Python 3",
   "language": "python",
   "name": "python3"
  },
  "language_info": {
   "codemirror_mode": {
    "name": "ipython",
    "version": 3
   },
   "file_extension": ".py",
   "mimetype": "text/x-python",
   "name": "python",
   "nbconvert_exporter": "python",
   "pygments_lexer": "ipython3",
   "version": "3.8.3"
  }
 },
 "nbformat": 4,
 "nbformat_minor": 4
}
